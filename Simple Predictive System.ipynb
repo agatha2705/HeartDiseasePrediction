{
 "cells": [
  {
   "cell_type": "markdown",
   "id": "b8866a2e",
   "metadata": {},
   "source": [
    "## Modelo de Previsão Simples"
   ]
  },
  {
   "cell_type": "code",
   "execution_count": 18,
   "id": "8d7dc320",
   "metadata": {},
   "outputs": [
    {
     "name": "stdout",
     "output_type": "stream",
     "text": [
      "Positivo: Possui risco cardiovascular.\n"
     ]
    }
   ],
   "source": [
    "import pandas as pd\n",
    "import numpy as np\n",
    "import pickle\n",
    "from pickle import load\n",
    "import warnings\n",
    "warnings.filterwarnings(\"ignore\")\n",
    "\n",
    "loaded_model = pickle.load(open(r'C:\\Users\\akyan\\Downloads\\Pyhton Impressionador Curso\\Projetos PI\\MachineLearning_InsuficienciaCardiaca\\clf.sav', 'rb'))\n",
    "loaded_scaler = pickle.load(open(r'C:\\Users\\akyan\\Downloads\\Pyhton Impressionador Curso\\Projetos PI\\MachineLearning_InsuficienciaCardiaca\\scaler.sav', 'rb'))\n",
    "\n",
    "input_data = (37, 1, 0, 140, 207, 0, 1, 130, 1, 1.50, 1)\n",
    "\n",
    "# mudando o input_data para numpy array\n",
    "input_data_as_numpy_array = np.asarray(input_data)\n",
    "\n",
    "# reshape the array as we are predicting for one instance\n",
    "input_data_reshaped = input_data_as_numpy_array.reshape(1, -1)\n",
    "\n",
    "# previsão\n",
    "prediction = loaded_model.predict(loaded_scaler.transform(input_data_reshaped))\n",
    "\n",
    "if (prediction[0] == 1):\n",
    "    print(f'Positivo: Possui risco cardiovascular.')\n",
    "else:\n",
    "    print(f'Negativo: Não possui risco cardiovascular.')"
   ]
  }
 ],
 "metadata": {
  "kernelspec": {
   "display_name": "Python 3 (ipykernel)",
   "language": "python",
   "name": "python3"
  },
  "language_info": {
   "codemirror_mode": {
    "name": "ipython",
    "version": 3
   },
   "file_extension": ".py",
   "mimetype": "text/x-python",
   "name": "python",
   "nbconvert_exporter": "python",
   "pygments_lexer": "ipython3",
   "version": "3.9.18"
  }
 },
 "nbformat": 4,
 "nbformat_minor": 5
}
